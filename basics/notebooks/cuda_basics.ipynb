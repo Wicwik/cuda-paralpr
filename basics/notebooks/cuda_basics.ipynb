{
  "nbformat": 4,
  "nbformat_minor": 0,
  "metadata": {
    "colab": {
      "name": "cuda_basics",
      "provenance": [],
      "collapsed_sections": []
    },
    "kernelspec": {
      "name": "python3",
      "display_name": "Python 3"
    },
    "accelerator": "GPU"
  },
  "cells": [
    {
      "cell_type": "markdown",
      "metadata": {
        "id": "Cq98H345xKY4"
      },
      "source": [
        "#**Jednoduchy priklad vyuzitia grafickej karty pomocou CUDA**"
      ]
    },
    {
      "cell_type": "code",
      "metadata": {
        "colab": {
          "base_uri": "https://localhost:8080/"
        },
        "id": "UwlJI8VystSx",
        "outputId": "10c1d9a2-ea1d-4606-8b6b-f9b96cf0a104"
      },
      "source": [
        "%%bash\r\n",
        "nvidia-smi\r\n",
        "nvcc --version"
      ],
      "execution_count": null,
      "outputs": [
        {
          "output_type": "stream",
          "text": [
            "Fri Jan  8 18:07:27 2021       \n",
            "+-----------------------------------------------------------------------------+\n",
            "| NVIDIA-SMI 460.27.04    Driver Version: 418.67       CUDA Version: 10.1     |\n",
            "|-------------------------------+----------------------+----------------------+\n",
            "| GPU  Name        Persistence-M| Bus-Id        Disp.A | Volatile Uncorr. ECC |\n",
            "| Fan  Temp  Perf  Pwr:Usage/Cap|         Memory-Usage | GPU-Util  Compute M. |\n",
            "|                               |                      |               MIG M. |\n",
            "|===============================+======================+======================|\n",
            "|   0  Tesla T4            Off  | 00000000:00:04.0 Off |                    0 |\n",
            "| N/A   45C    P8    10W /  70W |      0MiB / 15079MiB |      0%      Default |\n",
            "|                               |                      |                 ERR! |\n",
            "+-------------------------------+----------------------+----------------------+\n",
            "                                                                               \n",
            "+-----------------------------------------------------------------------------+\n",
            "| Processes:                                                                  |\n",
            "|  GPU   GI   CI        PID   Type   Process name                  GPU Memory |\n",
            "|        ID   ID                                                   Usage      |\n",
            "|=============================================================================|\n",
            "|  No running processes found                                                 |\n",
            "+-----------------------------------------------------------------------------+\n",
            "nvcc: NVIDIA (R) Cuda compiler driver\n",
            "Copyright (c) 2005-2019 NVIDIA Corporation\n",
            "Built on Sun_Jul_28_19:07:16_PDT_2019\n",
            "Cuda compilation tools, release 10.1, V10.1.243\n"
          ],
          "name": "stdout"
        }
      ]
    },
    {
      "cell_type": "markdown",
      "metadata": {
        "id": "sWjKUeIsx-_u"
      },
      "source": [
        "**Instalacia a nacitanie nvcc pluginu pre Jupyter notebook**"
      ]
    },
    {
      "cell_type": "code",
      "metadata": {
        "colab": {
          "base_uri": "https://localhost:8080/"
        },
        "id": "fGEYSVjktXUN",
        "outputId": "beedd7d8-3ded-401c-8273-c5abc8405116"
      },
      "source": [
        "!pip install git+git://github.com/andreinechaev/nvcc4jupyter.git\r\n",
        "%load_ext nvcc_plugin"
      ],
      "execution_count": null,
      "outputs": [
        {
          "output_type": "stream",
          "text": [
            "Collecting git+git://github.com/andreinechaev/nvcc4jupyter.git\n",
            "  Cloning git://github.com/andreinechaev/nvcc4jupyter.git to /tmp/pip-req-build-98ma2l77\n",
            "  Running command git clone -q git://github.com/andreinechaev/nvcc4jupyter.git /tmp/pip-req-build-98ma2l77\n",
            "Requirement already satisfied (use --upgrade to upgrade): NVCCPlugin==0.0.2 from git+git://github.com/andreinechaev/nvcc4jupyter.git in /usr/local/lib/python3.6/dist-packages\n",
            "Building wheels for collected packages: NVCCPlugin\n",
            "  Building wheel for NVCCPlugin (setup.py) ... \u001b[?25l\u001b[?25hdone\n",
            "  Created wheel for NVCCPlugin: filename=NVCCPlugin-0.0.2-cp36-none-any.whl size=4308 sha256=534162f6d7bb3770d552a63a76e57532add3e5ec01a2151f803f05429ca50619\n",
            "  Stored in directory: /tmp/pip-ephem-wheel-cache-mmk_smsi/wheels/10/c2/05/ca241da37bff77d60d31a9174f988109c61ba989e4d4650516\n",
            "Successfully built NVCCPlugin\n",
            "The nvcc_plugin extension is already loaded. To reload it, use:\n",
            "  %reload_ext nvcc_plugin\n"
          ],
          "name": "stdout"
        }
      ]
    },
    {
      "cell_type": "code",
      "metadata": {
        "colab": {
          "base_uri": "https://localhost:8080/"
        },
        "id": "o257HMXyK20z",
        "outputId": "cbfc4e26-623c-4fc4-ff4b-45206894f7ea"
      },
      "source": [
        "!git clone https://github.com/Wicwik/cuda-paralpr.git"
      ],
      "execution_count": null,
      "outputs": [
        {
          "output_type": "stream",
          "text": [
            "fatal: destination path 'cuda-paralpr' already exists and is not an empty directory.\n"
          ],
          "name": "stdout"
        }
      ]
    },
    {
      "cell_type": "markdown",
      "metadata": {
        "id": "i9_bL_y9w0AO"
      },
      "source": [
        "**Jednoduchy priklad pre test funkcnosti nvcc pluginu pre jupyter notebook**\r\n",
        "\r\n",
        "(Priklad prevzany z [blogu](https://harshityadav95.medium.com/how-to-run-cuda-c-or-c-on-google-colab-or-azure-notebook-ea75a23a5962))"
      ]
    },
    {
      "cell_type": "code",
      "metadata": {
        "colab": {
          "base_uri": "https://localhost:8080/"
        },
        "id": "Ff4d9EdJu2Jk",
        "outputId": "fd9dcde3-39a8-4607-94b1-17f3ab752292"
      },
      "source": [
        "%%cu\r\n",
        "#include <stdio.h>\r\n",
        "#include <stdlib.h>\r\n",
        "\r\n",
        "__global__ void add(int *a, int *b, int *c) \r\n",
        "{\r\n",
        "    *c = *a + *b;\r\n",
        "}\r\n",
        "\r\n",
        "int main() \r\n",
        "{\r\n",
        "    int a, b, c;\r\n",
        " \r\n",
        "    // host copies of variables a, b & c\r\n",
        "    int *d_a, *d_b, *d_c;\r\n",
        " \r\n",
        "    // device copies of variables a, b & c\r\n",
        "    int size = sizeof(int);\r\n",
        "    \r\n",
        "    // Allocate space for device copies of a, b, c\r\n",
        "    cudaMalloc((void **)&d_a, size);\r\n",
        "    cudaMalloc((void **)&d_b, size);\r\n",
        "    cudaMalloc((void **)&d_c, size);\r\n",
        "\r\n",
        "    // Setup input values  \r\n",
        "    c = 0;\r\n",
        "    a = 3;\r\n",
        "    b = 5;\r\n",
        "  \r\n",
        "    // Copy inputs to device\r\n",
        "    cudaMemcpy(d_a, &a, size, cudaMemcpyHostToDevice);\r\n",
        "    cudaMemcpy(d_b, &b, size, cudaMemcpyHostToDevice);\r\n",
        "\r\n",
        "    // Launch add() kernel on GPU\r\n",
        "    add<<<1,1>>>(d_a, d_b, d_c);\r\n",
        "    \r\n",
        "    // Copy result back to host\r\n",
        "    cudaError err = cudaMemcpy(&c, d_c, size, cudaMemcpyDeviceToHost);\r\n",
        "    if(err!=cudaSuccess) \r\n",
        "    {\r\n",
        "        printf(\"CUDA error copying to Host: %s\\n\", cudaGetErrorString(err));\r\n",
        "    }\r\n",
        " \r\n",
        "    printf(\"result is %d\\n\",c);\r\n",
        "    \r\n",
        "    // Cleanup\r\n",
        "    cudaFree(d_a);\r\n",
        "    cudaFree(d_b);\r\n",
        "    cudaFree(d_c);\r\n",
        "    \r\n",
        "    return 0;\r\n",
        "}"
      ],
      "execution_count": null,
      "outputs": [
        {
          "output_type": "stream",
          "text": [
            "result is 8\n",
            "\n"
          ],
          "name": "stdout"
        }
      ]
    },
    {
      "cell_type": "markdown",
      "metadata": {
        "id": "eHcEl8F8WhO1"
      },
      "source": [
        "**Viac ako 1M scitani cisel s desatinou ciarkou na CPU**\r\n",
        "\r\n",
        "(Inspiracia z Nvidia [blogu](https://developer.nvidia.com/blog/even-easier-introduction-cuda/))"
      ]
    },
    {
      "cell_type": "code",
      "metadata": {
        "colab": {
          "base_uri": "https://localhost:8080/"
        },
        "id": "5ZvJ9ikXu7lF",
        "outputId": "3da079df-93c9-442b-9dff-7b640380af6e"
      },
      "source": [
        "%%cu\r\n",
        "#include <iostream>\r\n",
        "#include <cmath>\r\n",
        "#include <chrono>\r\n",
        "\r\n",
        "void add(int n, float *x, float *y)\r\n",
        "{\r\n",
        "    for (int i = 0; i < n; i++)\r\n",
        "    {\r\n",
        "        y[i]+= x[i];\r\n",
        "    }\r\n",
        "}\r\n",
        "\r\n",
        "int main()\r\n",
        "{\r\n",
        "    int N = 1 << 20;\r\n",
        "\r\n",
        "    float *x = new float[N];\r\n",
        "    float *y = new float[N];\r\n",
        " \r\n",
        "    for (int i = 0; i < N; i++)\r\n",
        "    {\r\n",
        "        x[i] = 1.0f;\r\n",
        "        y[i] = 2.0f;\r\n",
        "    }\r\n",
        " \r\n",
        "    auto start = std::chrono::high_resolution_clock::now();\r\n",
        "    add(N, x, y);\r\n",
        "    auto stop = std::chrono::high_resolution_clock::now();\r\n",
        " \r\n",
        "    auto duration = std::chrono::duration_cast<std::chrono::microseconds>(stop - start); \r\n",
        " \r\n",
        "    float max_err = 0.0f;\r\n",
        "    for (int i = 0; i < N; i++)\r\n",
        "    {\r\n",
        "        max_err = std::fmax(max_err, std::fabs(y[i]-3.0f));\r\n",
        "    }\r\n",
        "    std::cout << duration.count() << \" microseconds\" << std::endl; \r\n",
        "    std::cout << \"Max error: \" << max_err << std::endl;\r\n",
        " \r\n",
        "    delete[] x;\r\n",
        "    delete[] y;\r\n",
        "}"
      ],
      "execution_count": null,
      "outputs": [
        {
          "output_type": "stream",
          "text": [
            "2844 microseconds\n",
            "Max error: 0\n",
            "\n"
          ],
          "name": "stdout"
        }
      ]
    },
    {
      "cell_type": "markdown",
      "metadata": {
        "id": "FPA2qcx2W7jM"
      },
      "source": [
        "**Viac ako 1M scitani cisel s desatinou ciarkou na GPU (velkost bloku aj pocet blokov je 1)**\r\n",
        "\r\n",
        "(Inspiracia z Nvidia [blogu](https://developer.nvidia.com/blog/even-easier-introduction-cuda/))"
      ]
    },
    {
      "cell_type": "code",
      "metadata": {
        "colab": {
          "base_uri": "https://localhost:8080/"
        },
        "id": "Q7qc5LK2z0QH",
        "outputId": "b3637a73-2c24-42d5-b13b-c14015eba995"
      },
      "source": [
        "%%cu\r\n",
        "#include <iostream>\r\n",
        "#include <cmath>\r\n",
        "#include <chrono>\r\n",
        "\r\n",
        "__global__ void add(int n, float *x, float *y)\r\n",
        "{\r\n",
        "    for (int i = 0; i < n; i++)\r\n",
        "    {\r\n",
        "        y[i]+= x[i];\r\n",
        "    }\r\n",
        "}\r\n",
        "\r\n",
        "int main()\r\n",
        "{\r\n",
        "    int N = 1 << 20;\r\n",
        "    float *x, *y;\r\n",
        " \r\n",
        "    // unified memory allocation\r\n",
        "    cudaMallocManaged(&x, N*sizeof(float)); \r\n",
        "    cudaMallocManaged(&y, N*sizeof(float));\r\n",
        " \r\n",
        "    for (int i = 0; i < N; i++)\r\n",
        "    {\r\n",
        "        x[i] = 1.0f;\r\n",
        "        y[i] = 2.0f;\r\n",
        "    }\r\n",
        " \r\n",
        "    auto start = std::chrono::high_resolution_clock::now();\r\n",
        "    add<<<1,1>>>(N, x, y);\r\n",
        " \r\n",
        "    cudaDeviceSynchronize();\r\n",
        "    auto stop = std::chrono::high_resolution_clock::now();\r\n",
        "    auto duration = std::chrono::duration_cast<std::chrono::microseconds>(stop - start);\r\n",
        " \r\n",
        "    float max_err = 0.0f;\r\n",
        "    for (int i = 0; i < N; i++)\r\n",
        "    {\r\n",
        "        max_err = std::fmax(max_err, std::fabs(y[i]-3.0f));\r\n",
        "    }\r\n",
        "    std::cout << duration.count() << \" microseconds\" << std::endl; \r\n",
        "    std::cout << \"Max error: \" << max_err << std::endl;\r\n",
        " \r\n",
        "    cudaFree(x);\r\n",
        "    cudaFree(y);\r\n",
        "}"
      ],
      "execution_count": null,
      "outputs": [
        {
          "output_type": "stream",
          "text": [
            "127381 microseconds\n",
            "Max error: 0\n",
            "\n"
          ],
          "name": "stdout"
        }
      ]
    },
    {
      "cell_type": "code",
      "metadata": {
        "colab": {
          "base_uri": "https://localhost:8080/"
        },
        "id": "e_thVcP7dujl",
        "outputId": "69731267-de88-4b0d-bb23-feb9a7786b80"
      },
      "source": [
        "!nvcc cuda-paralpr/basics/src/cuda_example0.cu\r\n",
        "!nvprof ./a.out"
      ],
      "execution_count": null,
      "outputs": [
        {
          "output_type": "stream",
          "text": [
            "==423== NVPROF is profiling process 423, command: ./a.out\n",
            "127130 microseconds\n",
            "Max error: 0\n",
            "==423== Profiling application: ./a.out\n",
            "==423== Profiling result:\n",
            "            Type  Time(%)      Time     Calls       Avg       Min       Max  Name\n",
            " GPU activities:  100.00%  127.05ms         1  127.05ms  127.05ms  127.05ms  add(int, float*, float*)\n",
            "      API calls:   60.98%  200.41ms         2  100.20ms  34.934us  200.37ms  cudaMallocManaged\n",
            "                   38.66%  127.07ms         1  127.07ms  127.07ms  127.07ms  cudaDeviceSynchronize\n",
            "                    0.18%  581.40us         2  290.70us  286.15us  295.25us  cudaFree\n",
            "                    0.11%  369.00us         1  369.00us  369.00us  369.00us  cuDeviceTotalMem\n",
            "                    0.04%  137.32us        97  1.4150us     134ns  57.655us  cuDeviceGetAttribute\n",
            "                    0.02%  51.236us         1  51.236us  51.236us  51.236us  cudaLaunchKernel\n",
            "                    0.01%  28.624us         1  28.624us  28.624us  28.624us  cuDeviceGetName\n",
            "                    0.00%  3.0570us         1  3.0570us  3.0570us  3.0570us  cuDeviceGetPCIBusId\n",
            "                    0.00%  1.6330us         3     544ns     159ns  1.0640us  cuDeviceGetCount\n",
            "                    0.00%  1.0970us         2     548ns     307ns     790ns  cuDeviceGet\n",
            "                    0.00%     273ns         1     273ns     273ns     273ns  cuDeviceGetUuid\n",
            "\n",
            "==423== Unified Memory profiling result:\n",
            "Device \"Tesla T4 (0)\"\n",
            "   Count  Avg Size  Min Size  Max Size  Total Size  Total Time  Name\n",
            "      48  170.67KB  4.0000KB  0.9961MB  8.000000MB  1.222912ms  Host To Device\n",
            "      24  170.67KB  4.0000KB  0.9961MB  4.000000MB  485.6320us  Device To Host\n",
            "      12         -         -         -           -  3.367296ms  Gpu page fault groups\n",
            "Total CPU Page faults: 36\n"
          ],
          "name": "stdout"
        }
      ]
    },
    {
      "cell_type": "code",
      "metadata": {
        "colab": {
          "base_uri": "https://localhost:8080/"
        },
        "id": "ORP_GtjrrciJ",
        "outputId": "7f4b527d-eac7-44e3-8339-1e15bd94fa49"
      },
      "source": [
        "%%cu\r\n",
        "#include <iostream>\r\n",
        "#include <algorithm>\r\n",
        "#include <chrono>\r\n",
        "\r\n",
        "__global__ void add(float *x, float *y, float *z, int size)\r\n",
        "{\r\n",
        "    int index = threadIdx.x;\r\n",
        "    int stride = blockDim.x;\r\n",
        " \r\n",
        "    for (int i = index; i < size; i += stride)\r\n",
        "    {\r\n",
        "        z[i] = x[i] + y[i];\r\n",
        "    }\r\n",
        "}\r\n",
        "\r\n",
        "cudaError_t cuda_add(float *x, float *y, float *z, int size);\r\n",
        "\r\n",
        "int main()\r\n",
        "{\r\n",
        "    const int N = 1 << 20;\r\n",
        "\r\n",
        "    float *x = new float[N];\r\n",
        "    float *y = new float[N];\r\n",
        "    float *z = new float[N];\r\n",
        " \r\n",
        "    std::fill_n(x, N, 1.0f);\r\n",
        "    std::fill_n(y, N, 2.0f);\r\n",
        " \r\n",
        "    cudaError_t cudaStatus = cuda_add(x, y, z, N);\r\n",
        " \r\n",
        "    if (cudaStatus != cudaSuccess) \r\n",
        "    {\r\n",
        "        fprintf(stderr, \"add_cuda failed!\");\r\n",
        "        return 1;\r\n",
        "    }\r\n",
        " \r\n",
        "    float max_err = 0.0f;\r\n",
        "    for (int i = 0; i < N; i++)\r\n",
        "    {\r\n",
        "        max_err = std::fmax(max_err, std::fabs(z[i]-3.0f));\r\n",
        "    }\r\n",
        "    std::cout << \"Max error: \" << max_err << std::endl;\r\n",
        " \r\n",
        "    delete[] x;\r\n",
        "    delete[] y;\r\n",
        "    delete[] z;\r\n",
        "}\r\n",
        "\r\n",
        "cudaError_t cuda_add(float *x, float *y, float *z, int size)\r\n",
        "{\r\n",
        "    float *dev_x = 0;\r\n",
        "    float *dev_y = 0;\r\n",
        "    float *dev_z = 0;\r\n",
        "    cudaError_t cudaStatus;\r\n",
        " \r\n",
        "    cudaStatus = cudaSetDevice(0);\r\n",
        "    if (cudaStatus != cudaSuccess) \r\n",
        "    {\r\n",
        "        fprintf(stderr, \"cudaSetDevice failed!  Do you have a CUDA-capable GPU installed?\"); \r\n",
        "        return cudaStatus;\r\n",
        "    }\r\n",
        " \r\n",
        "    cudaStatus = cudaMalloc((void**)&dev_x, size * sizeof(float));\r\n",
        "    if (cudaStatus != cudaSuccess) \r\n",
        "    {\r\n",
        "        fprintf(stderr, \"cudaMalloc failed!\");\r\n",
        "        cudaFree(dev_x);\r\n",
        "        return cudaStatus;\r\n",
        "    }\r\n",
        " \r\n",
        "    cudaStatus = cudaMalloc((void**)&dev_y, size * sizeof(float));\r\n",
        "    if (cudaStatus != cudaSuccess) \r\n",
        "    {\r\n",
        "        fprintf(stderr, \"cudaMalloc failed!\");\r\n",
        "        cudaFree(dev_x);\r\n",
        "        cudaFree(dev_y);\r\n",
        "    \r\n",
        "        return cudaStatus;\r\n",
        "    }\r\n",
        " \r\n",
        "    cudaStatus = cudaMalloc((void**)&dev_z, size * sizeof(float));\r\n",
        "    if (cudaStatus != cudaSuccess) \r\n",
        "    {\r\n",
        "        fprintf(stderr, \"cudaMalloc failed!\");\r\n",
        "        cudaFree(dev_x);\r\n",
        "        cudaFree(dev_y);\r\n",
        "        cudaFree(dev_z);\r\n",
        "    \r\n",
        "        return cudaStatus;\r\n",
        "    }\r\n",
        "\r\n",
        "    cudaStatus = cudaMemcpy(dev_x, x, size * sizeof(float), cudaMemcpyHostToDevice);\r\n",
        "    if (cudaStatus != cudaSuccess) \r\n",
        "    {\r\n",
        "        fprintf(stderr, \"cudaMemcpy failed!\");\r\n",
        "        cudaFree(dev_x);\r\n",
        "        cudaFree(dev_y);\r\n",
        "        cudaFree(dev_z);\r\n",
        "    \r\n",
        "        return cudaStatus;\r\n",
        "    }\r\n",
        "\r\n",
        "    cudaStatus = cudaMemcpy(dev_y, y, size * sizeof(float), cudaMemcpyHostToDevice);\r\n",
        "    if (cudaStatus != cudaSuccess) \r\n",
        "    {\r\n",
        "        fprintf(stderr, \"cudaMemcpy failed!\");\r\n",
        "        cudaFree(dev_x);\r\n",
        "        cudaFree(dev_y);\r\n",
        "        cudaFree(dev_z);\r\n",
        "    \r\n",
        "        return cudaStatus;\r\n",
        "    }\r\n",
        "\r\n",
        "    auto start = std::chrono::high_resolution_clock::now();\r\n",
        "    add<<<1, 1>>>(dev_x, dev_y, dev_z, size);\r\n",
        "    \r\n",
        "\r\n",
        "    cudaStatus = cudaGetLastError();\r\n",
        "    if (cudaStatus != cudaSuccess) \r\n",
        "    {\r\n",
        "        fprintf(stderr, \"kernel launch failed: %s\\n\", cudaGetErrorString(cudaStatus));\r\n",
        "        cudaFree(dev_x);\r\n",
        "        cudaFree(dev_y);\r\n",
        "        cudaFree(dev_z);\r\n",
        "    \r\n",
        "        return cudaStatus;\r\n",
        "    }\r\n",
        "\r\n",
        "    cudaStatus = cudaDeviceSynchronize();\r\n",
        "    auto stop = std::chrono::high_resolution_clock::now();\r\n",
        " \r\n",
        "    auto duration = std::chrono::duration_cast<std::chrono::microseconds>(stop - start);\r\n",
        "    std::cout << duration.count() << \" microseconds\" << std::endl;\r\n",
        "    if (cudaStatus != cudaSuccess) \r\n",
        "    {\r\n",
        "        fprintf(stderr, \"cudaDeviceSynchronize returned error code %d after launching addKernel!\\n\", cudaStatus);\r\n",
        "        cudaFree(dev_x);\r\n",
        "        cudaFree(dev_y);\r\n",
        "        cudaFree(dev_z);\r\n",
        "    \r\n",
        "        return cudaStatus;\r\n",
        "    }\r\n",
        "\r\n",
        "    cudaStatus = cudaMemcpy(z, dev_z, size * sizeof(float), cudaMemcpyDeviceToHost);\r\n",
        "    if (cudaStatus != cudaSuccess) \r\n",
        "    {\r\n",
        "        fprintf(stderr, \"cudaMemcpy failed!\");\r\n",
        "        cudaFree(dev_x);\r\n",
        "        cudaFree(dev_y);\r\n",
        "        cudaFree(dev_z);\r\n",
        "    \r\n",
        "        return cudaStatus;\r\n",
        "    }\r\n",
        "\r\n",
        "    cudaFree(dev_x);\r\n",
        "    cudaFree(dev_y);\r\n",
        "    cudaFree(dev_z);\r\n",
        " \r\n",
        "    return cudaStatus;\r\n",
        "}"
      ],
      "execution_count": null,
      "outputs": [
        {
          "output_type": "stream",
          "text": [
            "180208 microseconds\n",
            "Max error: 0\n",
            "\n"
          ],
          "name": "stdout"
        }
      ]
    },
    {
      "cell_type": "code",
      "metadata": {
        "colab": {
          "base_uri": "https://localhost:8080/"
        },
        "id": "u8AnEgCFtk55",
        "outputId": "0b86f4eb-d6be-4ced-ae13-08d9191e0670"
      },
      "source": [
        "!nvcc cuda-paralpr/basics/src/cuda_example1.cu\r\n",
        "!nvprof ./a.out"
      ],
      "execution_count": null,
      "outputs": [
        {
          "output_type": "stream",
          "text": [
            "==517== NVPROF is profiling process 517, command: ./a.out\n",
            "180093 microseconds\n",
            "Max error: 0\n",
            "==517== Profiling application: ./a.out\n",
            "==517== Profiling result:\n",
            "            Type  Time(%)      Time     Calls       Avg       Min       Max  Name\n",
            " GPU activities:   98.17%  179.93ms         1  179.93ms  179.93ms  179.93ms  add(float*, float*, float*, int)\n",
            "                    0.96%  1.7565ms         1  1.7565ms  1.7565ms  1.7565ms  [CUDA memcpy DtoH]\n",
            "                    0.88%  1.6049ms         2  802.43us  793.58us  811.27us  [CUDA memcpy HtoD]\n",
            "      API calls:   49.53%  180.06ms         1  180.06ms  180.06ms  180.06ms  cudaDeviceSynchronize\n",
            "                   48.79%  177.34ms         3  59.114ms  75.336us  177.19ms  cudaMalloc\n",
            "                    1.38%  5.0027ms         3  1.6676ms  918.76us  3.0522ms  cudaMemcpy\n",
            "                    0.16%  568.21us         3  189.40us  151.92us  211.31us  cudaFree\n",
            "                    0.09%  336.30us         1  336.30us  336.30us  336.30us  cuDeviceTotalMem\n",
            "                    0.04%  138.56us        97  1.4280us     131ns  59.682us  cuDeviceGetAttribute\n",
            "                    0.01%  29.856us         1  29.856us  29.856us  29.856us  cudaLaunchKernel\n",
            "                    0.01%  24.768us         1  24.768us  24.768us  24.768us  cuDeviceGetName\n",
            "                    0.00%  4.0350us         1  4.0350us  4.0350us  4.0350us  cuDeviceGetPCIBusId\n",
            "                    0.00%  3.5010us         1  3.5010us  3.5010us  3.5010us  cudaSetDevice\n",
            "                    0.00%  1.7350us         3     578ns     161ns  1.0910us  cuDeviceGetCount\n",
            "                    0.00%  1.1730us         2     586ns     233ns     940ns  cuDeviceGet\n",
            "                    0.00%     251ns         1     251ns     251ns     251ns  cuDeviceGetUuid\n",
            "                    0.00%     209ns         1     209ns     209ns     209ns  cudaGetLastError\n"
          ],
          "name": "stdout"
        }
      ]
    },
    {
      "cell_type": "markdown",
      "metadata": {
        "id": "c3fX4GiBX4cm"
      },
      "source": [
        "**Viac ako 1M scitani cisel s desatinou ciarkou na GPU (pridane osetrenia, velkost bloku je 256)**"
      ]
    },
    {
      "cell_type": "code",
      "metadata": {
        "colab": {
          "base_uri": "https://localhost:8080/"
        },
        "id": "QTpFBdZE56n-",
        "outputId": "0c16a925-f99f-42b7-9f16-dec6d892fdda"
      },
      "source": [
        "%%cu\r\n",
        "#include <iostream>\r\n",
        "#include <algorithm>\r\n",
        "#include <chrono>\r\n",
        "\r\n",
        "__global__ void add(float *x, float *y, float *z, int size)\r\n",
        "{\r\n",
        "    int index = threadIdx.x;\r\n",
        "    int stride = blockDim.x;\r\n",
        " \r\n",
        "    for (int i = index; i < size; i += stride)\r\n",
        "    {\r\n",
        "        z[i] = x[i] + y[i];\r\n",
        "    }\r\n",
        "}\r\n",
        "\r\n",
        "cudaError_t cuda_add(float *x, float *y, float *z, int size);\r\n",
        "\r\n",
        "int main()\r\n",
        "{\r\n",
        "    const int N = 1 << 20;\r\n",
        "\r\n",
        "    float *x = new float[N];\r\n",
        "    float *y = new float[N];\r\n",
        "    float *z = new float[N];\r\n",
        " \r\n",
        "    std::fill_n(x, N, 1.0f);\r\n",
        "    std::fill_n(y, N, 2.0f);\r\n",
        " \r\n",
        "    cudaError_t cudaStatus = cuda_add(x, y, z, N);\r\n",
        " \r\n",
        "    if (cudaStatus != cudaSuccess) \r\n",
        "    {\r\n",
        "        fprintf(stderr, \"add_cuda failed!\");\r\n",
        "        return 1;\r\n",
        "    }\r\n",
        " \r\n",
        "    float max_err = 0.0f;\r\n",
        "    for (int i = 0; i < N; i++)\r\n",
        "    {\r\n",
        "        max_err = std::fmax(max_err, std::fabs(z[i]-3.0f));\r\n",
        "    }\r\n",
        "    std::cout << \"Max error: \" << max_err << std::endl;\r\n",
        " \r\n",
        "    delete[] x;\r\n",
        "    delete[] y;\r\n",
        "    delete[] z;\r\n",
        "}\r\n",
        "\r\n",
        "cudaError_t cuda_add(float *x, float *y, float *z, int size)\r\n",
        "{\r\n",
        "    float *dev_x = 0;\r\n",
        "    float *dev_y = 0;\r\n",
        "    float *dev_z = 0;\r\n",
        "    cudaError_t cudaStatus;\r\n",
        " \r\n",
        "    cudaStatus = cudaSetDevice(0);\r\n",
        "    if (cudaStatus != cudaSuccess) \r\n",
        "    {\r\n",
        "        fprintf(stderr, \"cudaSetDevice failed!  Do you have a CUDA-capable GPU installed?\"); \r\n",
        "        return cudaStatus;\r\n",
        "    }\r\n",
        " \r\n",
        "    cudaStatus = cudaMalloc((void**)&dev_x, size * sizeof(float));\r\n",
        "    if (cudaStatus != cudaSuccess) \r\n",
        "    {\r\n",
        "        fprintf(stderr, \"cudaMalloc failed!\");\r\n",
        "        cudaFree(dev_x);\r\n",
        "        return cudaStatus;\r\n",
        "    }\r\n",
        " \r\n",
        "    cudaStatus = cudaMalloc((void**)&dev_y, size * sizeof(float));\r\n",
        "    if (cudaStatus != cudaSuccess) \r\n",
        "    {\r\n",
        "        fprintf(stderr, \"cudaMalloc failed!\");\r\n",
        "        cudaFree(dev_x);\r\n",
        "        cudaFree(dev_y);\r\n",
        "    \r\n",
        "        return cudaStatus;\r\n",
        "    }\r\n",
        " \r\n",
        "    cudaStatus = cudaMalloc((void**)&dev_z, size * sizeof(float));\r\n",
        "    if (cudaStatus != cudaSuccess) \r\n",
        "    {\r\n",
        "        fprintf(stderr, \"cudaMalloc failed!\");\r\n",
        "        cudaFree(dev_x);\r\n",
        "        cudaFree(dev_y);\r\n",
        "        cudaFree(dev_z);\r\n",
        "    \r\n",
        "        return cudaStatus;\r\n",
        "    }\r\n",
        "\r\n",
        "    cudaStatus = cudaMemcpy(dev_x, x, size * sizeof(float), cudaMemcpyHostToDevice);\r\n",
        "    if (cudaStatus != cudaSuccess) \r\n",
        "    {\r\n",
        "        fprintf(stderr, \"cudaMemcpy failed!\");\r\n",
        "        cudaFree(dev_x);\r\n",
        "        cudaFree(dev_y);\r\n",
        "        cudaFree(dev_z);\r\n",
        "    \r\n",
        "        return cudaStatus;\r\n",
        "    }\r\n",
        "\r\n",
        "    cudaStatus = cudaMemcpy(dev_y, y, size * sizeof(float), cudaMemcpyHostToDevice);\r\n",
        "    if (cudaStatus != cudaSuccess) \r\n",
        "    {\r\n",
        "        fprintf(stderr, \"cudaMemcpy failed!\");\r\n",
        "        cudaFree(dev_x);\r\n",
        "        cudaFree(dev_y);\r\n",
        "        cudaFree(dev_z);\r\n",
        "    \r\n",
        "        return cudaStatus;\r\n",
        "    }\r\n",
        " \r\n",
        "    int block_size = 256;\r\n",
        "    int number_of_blocks = (size + block_size - 1) / block_size;\r\n",
        " \r\n",
        "    std::cout << number_of_blocks << std::endl;\r\n",
        "\r\n",
        "    auto start = std::chrono::high_resolution_clock::now();\r\n",
        "    add<<<number_of_blocks, block_size>>>(dev_x, dev_y, dev_z, size);\r\n",
        "    \r\n",
        "\r\n",
        "    cudaStatus = cudaGetLastError();\r\n",
        "    if (cudaStatus != cudaSuccess) \r\n",
        "    {\r\n",
        "        fprintf(stderr, \"kernel launch failed: %s\\n\", cudaGetErrorString(cudaStatus));\r\n",
        "        cudaFree(dev_x);\r\n",
        "        cudaFree(dev_y);\r\n",
        "        cudaFree(dev_z);\r\n",
        "    \r\n",
        "        return cudaStatus;\r\n",
        "    }\r\n",
        "\r\n",
        "    cudaStatus = cudaDeviceSynchronize();\r\n",
        "    auto stop = std::chrono::high_resolution_clock::now();\r\n",
        " \r\n",
        "    auto duration = std::chrono::duration_cast<std::chrono::microseconds>(stop - start);\r\n",
        "    std::cout << duration.count() << \" microseconds\" << std::endl;\r\n",
        "    if (cudaStatus != cudaSuccess) \r\n",
        "    {\r\n",
        "        fprintf(stderr, \"cudaDeviceSynchronize returned error code %d after launching addKernel!\\n\", cudaStatus);\r\n",
        "        cudaFree(dev_x);\r\n",
        "        cudaFree(dev_y);\r\n",
        "        cudaFree(dev_z);\r\n",
        "    \r\n",
        "        return cudaStatus;\r\n",
        "    }\r\n",
        "\r\n",
        "    cudaStatus = cudaMemcpy(z, dev_z, size * sizeof(float), cudaMemcpyDeviceToHost);\r\n",
        "    if (cudaStatus != cudaSuccess) \r\n",
        "    {\r\n",
        "        fprintf(stderr, \"cudaMemcpy failed!\");\r\n",
        "        cudaFree(dev_x);\r\n",
        "        cudaFree(dev_y);\r\n",
        "        cudaFree(dev_z);\r\n",
        "    \r\n",
        "        return cudaStatus;\r\n",
        "    }\r\n",
        "\r\n",
        "    cudaFree(dev_x);\r\n",
        "    cudaFree(dev_y);\r\n",
        "    cudaFree(dev_z);\r\n",
        " \r\n",
        "    return cudaStatus;\r\n",
        "}"
      ],
      "execution_count": null,
      "outputs": [
        {
          "output_type": "stream",
          "text": [
            "4096\n",
            "70690 microseconds\n",
            "Max error: 0\n",
            "\n"
          ],
          "name": "stdout"
        }
      ]
    },
    {
      "cell_type": "code",
      "metadata": {
        "id": "0adQcpD4N0Wr",
        "colab": {
          "base_uri": "https://localhost:8080/"
        },
        "outputId": "d3df0ae5-247c-4c4e-ac33-45a7bc6ee935"
      },
      "source": [
        "!nvcc cuda-paralpr/basics/src/cuda_example2.cu\r\n",
        "!nvprof ./a.out"
      ],
      "execution_count": null,
      "outputs": [
        {
          "output_type": "stream",
          "text": [
            "==613== NVPROF is profiling process 613, command: ./a.out\n",
            "68846 microseconds\n",
            "Max error: 0\n",
            "==613== Profiling application: ./a.out\n",
            "==613== Profiling result:\n",
            "            Type  Time(%)      Time     Calls       Avg       Min       Max  Name\n",
            " GPU activities:   95.57%  68.690ms         1  68.690ms  68.690ms  68.690ms  add(float*, float*, float*, int)\n",
            "                    2.28%  1.6420ms         2  821.00us  815.08us  826.92us  [CUDA memcpy HtoD]\n",
            "                    2.14%  1.5387ms         1  1.5387ms  1.5387ms  1.5387ms  [CUDA memcpy DtoH]\n",
            "      API calls:   70.37%  177.34ms         3  59.112ms  77.078us  177.16ms  cudaMalloc\n",
            "                   27.30%  68.807ms         1  68.807ms  68.807ms  68.807ms  cudaDeviceSynchronize\n",
            "                    1.88%  4.7349ms         3  1.5783ms  932.16us  2.7633ms  cudaMemcpy\n",
            "                    0.23%  573.16us         3  191.05us  164.06us  205.70us  cudaFree\n",
            "                    0.14%  343.81us         1  343.81us  343.81us  343.81us  cuDeviceTotalMem\n",
            "                    0.06%  139.26us        97  1.4350us     151ns  57.990us  cuDeviceGetAttribute\n",
            "                    0.01%  33.670us         1  33.670us  33.670us  33.670us  cudaLaunchKernel\n",
            "                    0.01%  30.231us         1  30.231us  30.231us  30.231us  cuDeviceGetName\n",
            "                    0.00%  3.8600us         1  3.8600us  3.8600us  3.8600us  cudaSetDevice\n",
            "                    0.00%  3.7660us         1  3.7660us  3.7660us  3.7660us  cuDeviceGetPCIBusId\n",
            "                    0.00%  1.4760us         3     492ns     176ns     965ns  cuDeviceGetCount\n",
            "                    0.00%  1.0560us         2     528ns     226ns     830ns  cuDeviceGet\n",
            "                    0.00%     557ns         1     557ns     557ns     557ns  cudaGetLastError\n",
            "                    0.00%     255ns         1     255ns     255ns     255ns  cuDeviceGetUuid\n"
          ],
          "name": "stdout"
        }
      ]
    },
    {
      "cell_type": "code",
      "metadata": {
        "id": "QO1VAkKfMH3t"
      },
      "source": [
        ""
      ],
      "execution_count": null,
      "outputs": []
    }
  ]
}